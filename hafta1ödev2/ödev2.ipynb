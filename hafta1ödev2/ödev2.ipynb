{
 "cells": [
  {
   "cell_type": "markdown",
   "id": "ff87c8f7",
   "metadata": {},
   "source": [
    "# 1\n",
    "Kullanıcıdan maaş bilgisini isteyelim ve bu bilgiye göre maaşından ne kadar vergi kesileceğini hesaplayalım. (Oluşturulan vergi sistemi hayal ürünüdür :D)\n",
    "Kullanıcının geliri;\n",
    "- 10000 ve altındaysa maaşından %5 kesinti olsun.\n",
    "- 25000 ve altındaysa maaşından %10 kesinti olsun.\n",
    "- 45000 ve altındaysa maaşından %25 kesinti olsun.\n",
    "- Diğer koşullarda %30 kesinti olsun.\n",
    "\n",
    "Bu durumlara göre kullanıcının yeni maaşını yazdıralım."
   ]
  },
  {
   "cell_type": "code",
   "execution_count": null,
   "id": "a6da3ea9",
   "metadata": {},
   "outputs": [],
   "source": [
    "maas = float(input(\"Maaşınızı Giriniz. \"))\n",
    "\n",
    "if maas <= 10000 :\n",
    "    vergi_orani=0.05\n",
    "elif maas <=25000 :\n",
    "    vergi_orani=0.10\n",
    "elif maas <=45000 :\n",
    "    vergi_orani=0.25\n",
    "else :\n",
    "    vergi_orani=0.30\n",
    "    \n",
    "kesinti= maas* vergi_orani\n",
    "yeni_maas = maas- kesinti\n",
    "\n",
    "print(\"Yeni maaşınız: {yeni_maas}\" )"
   ]
  },
  {
   "cell_type": "markdown",
   "id": "77370310",
   "metadata": {},
   "source": [
    "# 2\n",
    "Kullanıcıdan kullanıcı adı ve şifre oluşturmasını isteyin. Şifrenin uzunluğu altı haneye ulaşmışsa hesabınız oluşturuldu mesajı alsın, altı haneden azsa altı haneli şifre oluşturması gerektiğinin mesajını alsın.(Sadece koşul kullanmanız yeterli.)"
   ]
  },
  {
   "cell_type": "code",
   "execution_count": null,
   "id": "61ddc038",
   "metadata": {},
   "outputs": [],
   "source": [
    "\n",
    "kullanici_adi = input(\"Kullanıcı adınızı girin: \")\n",
    "sifre = input(\"Şifrenizi girin: \")\n",
    "\n",
    "\n",
    "if len(sifre) = 6:\n",
    "    print(\"Hesabınız oluşturuldu.\")\n",
    "else:\n",
    "    print(\"6 haneli bir şifre oluşturmanız gerekmektedir.\")\n"
   ]
  },
  {
   "cell_type": "markdown",
   "id": "fd529538",
   "metadata": {},
   "source": [
    "# 3\n",
    "Bir önceki örneği geliştiriyoruz. \n",
    "\n",
    "- Kullanıcı girdiği şifre 5 ve 10 hane arasında olmak zorunda olsun. \n",
    "- Eğer bu koşula uyuyorsa \"Hesabınız oluşturuldu.\" mesajı alsın\n",
    "- Koşulu sağlamıyorsa \"Lütfen girdiniz şifre 5 haneden az 1 haneden fazla olmasın!\" uyarısı alsın.\n",
    "- Bunu oluştururken kullanıcı istediğimiz şartlarda şifre oluşturuna kadar sormaya devam etsin."
   ]
  },
  {
   "cell_type": "code",
   "execution_count": null,
   "id": "b882e6f9",
   "metadata": {},
   "outputs": [],
   "source": [
    "while True:\n",
    "    sifre = input(\"Şifrenizi girin: \")\n",
    "    \n",
    "    if 5 <= len(sifre) <= 10:\n",
    "        print(\"Hesabınız oluşturuldu.\")\n",
    "        break\n",
    "    else:\n",
    "        print(\"Lütfen girdiğiniz şifre 5 haneden az 10 haneden fazla olmasın!\")\n",
    "\n",
    " "
   ]
  },
  {
   "cell_type": "markdown",
   "id": "2fd0417d",
   "metadata": {},
   "source": [
    "# 4\n",
    "- Kullanıcıdan isim ve şifre isteyeceğiz ve şifre girişi için üç hak vereceğiz. \n",
    "- Eğer önceden tanımlı şifre ile kullanıdan gelen şifre aynıysa \"Giriş yapıldı.\" yazsın. \n",
    "- Şifre girişi yanlışşa \"Yanlış şifre girildi!\" uyarısı verilsin ve üç yanlış denemede program bitsin.\n",
    "- Tercihe göre kalan hak bilgisi verilsin"
   ]
  },
  {
   "cell_type": "code",
   "execution_count": null,
   "id": "41d69a99",
   "metadata": {},
   "outputs": [],
   "source": [
    "sifre = \"helloworld\"\n",
    "\n",
    "for i in range(3):\n",
    "    parola = input(\"Lütfen parolayı giriniz: \")\n",
    "    if  sifre==parola:\n",
    "        print(\"Giriş Yapıldı\")\n",
    "        break\n",
    "    else:\n",
    "        print(\"Yanlış Şifre Girildi\")"
   ]
  }
 ],
 "metadata": {
  "kernelspec": {
   "display_name": "Python 3 (ipykernel)",
   "language": "python",
   "name": "python3"
  },
  "language_info": {
   "codemirror_mode": {
    "name": "ipython",
    "version": 3
   },
   "file_extension": ".py",
   "mimetype": "text/x-python",
   "name": "python",
   "nbconvert_exporter": "python",
   "pygments_lexer": "ipython3",
   "version": "3.11.4"
  }
 },
 "nbformat": 4,
 "nbformat_minor": 5
}
